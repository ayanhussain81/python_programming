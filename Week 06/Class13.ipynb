{
  "nbformat": 4,
  "nbformat_minor": 0,
  "metadata": {
    "colab": {
      "provenance": []
    },
    "kernelspec": {
      "name": "python3",
      "display_name": "Python 3"
    },
    "language_info": {
      "name": "python"
    }
  },
  "cells": [
    {
      "cell_type": "markdown",
      "source": [
        "# Inheritance"
      ],
      "metadata": {
        "id": "QKboy_y-Mk0A"
      }
    },
    {
      "cell_type": "code",
      "source": [
        "class Animal():\n",
        "  def make_sound(self):\n",
        "    print(\"The animal makes a sound\")\n",
        "\n",
        "class Dog(Animal):\n",
        "  def bark(self):\n",
        "    print(\"The dog barks\")\n",
        "\n",
        "class Cat(Animal):\n",
        "  def meow(self):\n",
        "    print(\"The cat meows\")\n",
        "\n",
        "my_dog = Dog()\n",
        "my_dog.make_sound()  # Call base class method\n",
        "my_dog.bark()        # Call derived class method\n",
        "\n",
        "my_cat = Cat()\n",
        "my_cat.make_sound()  # Call base class method\n",
        "my_cat.meow()        # Call derived class method\n"
      ],
      "metadata": {
        "colab": {
          "base_uri": "https://localhost:8080/"
        },
        "id": "uONHaG4iMn6M",
        "outputId": "5faabf0f-69a9-4c0f-adf1-da42729b6105"
      },
      "execution_count": 2,
      "outputs": [
        {
          "output_type": "stream",
          "name": "stdout",
          "text": [
            "The animal makes a sound\n",
            "The dog barks\n",
            "The animal makes a sound\n",
            "The cat meows\n"
          ]
        }
      ]
    },
    {
      "cell_type": "code",
      "source": [
        "# Parent Class\n",
        "class Vehicle():\n",
        "    def __init__(self, brand, speed):\n",
        "\n",
        "        self.speed = speed\n",
        "\n",
        "    def show_parent_info(self):\n",
        "      print(f'Brand: {self.brand} Speed: {self.speed}')\n",
        "\n",
        "car1= Vehicle('Toyota',200)\n",
        "car1.show_parent_info()"
      ],
      "metadata": {
        "colab": {
          "base_uri": "https://localhost:8080/"
        },
        "id": "nmk4DMBpVs2X",
        "outputId": "1d980ce8-0eba-4ba6-b267-760bc8d3a05f"
      },
      "execution_count": 4,
      "outputs": [
        {
          "output_type": "stream",
          "name": "stdout",
          "text": [
            "Brand: Toyota Speed: 200\n"
          ]
        }
      ]
    },
    {
      "cell_type": "code",
      "source": [
        "# Parent Class\n",
        "class Vehicle():\n",
        "    def __init__(self, brand, speed):\n",
        "        self.speed = speed\n",
        "        self.brand = brand\n",
        "\n",
        "    def show_parent_info(self):\n",
        "      print(f'Brand: {self.brand} Speed: {self.speed}')\n",
        "\n",
        "# Child Class\n",
        "class Car(Vehicle):\n",
        "    def __init__(self, brand, speed, color,fuel_type):\n",
        "        Vehicle.__init__(self,brand, speed)\n",
        "        # super().__init__(brand, speed)\n",
        "        self.color = color\n",
        "        self.fuel_type = fuel_type\n",
        "    def show_child_info(self):\n",
        "      print(f'Brand: {self.brand} Speed: {self.speed} Color: {self.color}')\n",
        "\n",
        "child_car = Car('Toyota',200,'Red','Petrol')\n",
        "child_car.show_child_info()\n",
        "child_car.show_parent_info()"
      ],
      "metadata": {
        "colab": {
          "base_uri": "https://localhost:8080/"
        },
        "id": "zGhEE-GCVwpc",
        "outputId": "12c684b8-da8f-4965-8c8b-264c653b10f2"
      },
      "execution_count": 11,
      "outputs": [
        {
          "output_type": "stream",
          "name": "stdout",
          "text": [
            "Brand: Toyota Speed: 200 Color: Red\n",
            "Brand: Toyota Speed: 200\n"
          ]
        }
      ]
    },
    {
      "cell_type": "code",
      "source": [
        "class Engine:\n",
        "    def engine_type(self):\n",
        "        print(\"V8 Engine\")\n",
        "\n",
        "class Wheels:\n",
        "    def wheel_count(self):\n",
        "        print(\"4 Wheels\")\n",
        "\n",
        "class Car(Engine, Wheels):\n",
        "    def drive(self):\n",
        "        print(\"Car drives\")\n",
        "\n",
        "c = Car()\n",
        "c.engine_type()\n",
        "c.wheel_count()\n",
        "c.drive()\n"
      ],
      "metadata": {
        "colab": {
          "base_uri": "https://localhost:8080/"
        },
        "id": "kulnieIWd_uT",
        "outputId": "7d98296c-b2d4-4901-9844-1323e7b14634"
      },
      "execution_count": 12,
      "outputs": [
        {
          "output_type": "stream",
          "name": "stdout",
          "text": [
            "V8 Engine\n",
            "4 Wheels\n",
            "Car drives\n"
          ]
        }
      ]
    },
    {
      "cell_type": "code",
      "source": [
        "class Vehicle:\n",
        "    def __init__(self):\n",
        "        self.has_engine = True\n",
        "\n",
        "    def start_engine(self):\n",
        "        print(\"Engine started\")\n",
        "\n",
        "    def stop_engine(self):\n",
        "        print(\"Engine stopped\")\n",
        "\n",
        "class Car(Vehicle):\n",
        "    def __init__(self):\n",
        "        super().__init__()\n",
        "        self.wheels = 4\n",
        "\n",
        "    def drive(self):\n",
        "        print(\"Car is driving\")\n",
        "\n",
        "\n",
        "class ElectricCar(Car):\n",
        "    def __init__(self):\n",
        "        super().__init__()\n",
        "        self.battery = \"Lithium-ion\"\n",
        "\n",
        "    def charge(self):\n",
        "        print(\"Car is charging\")\n",
        "\n",
        "    def drive(self):  # Overriding drive method from Car\n",
        "        print(\"Electric car is driving silently.\")\n",
        "\n",
        "tesla = ElectricCar()\n",
        "print(tesla.has_engine)  # True\n",
        "print(tesla.wheels)      # 4\n",
        "print(tesla.battery)     # Lithium-ion\n"
      ],
      "metadata": {
        "id": "Emd5H_9ziRy8"
      },
      "execution_count": null,
      "outputs": []
    },
    {
      "cell_type": "code",
      "source": [
        "class Vehicle:\n",
        "    def __init__(self):\n",
        "        self.has_engine = True\n",
        "\n",
        "    def start_engine(self):\n",
        "        print(\"Engine started.\")\n",
        "\n",
        "    def stop_engine(self):\n",
        "        print(\"Engine stopped.\")\n",
        "\n",
        "class Car(Vehicle):\n",
        "    def __init__(self):\n",
        "        super().__init__()\n",
        "        self.wheels = 4\n",
        "\n",
        "    def drive(self):\n",
        "        print(\"Car is driving.\")\n",
        "\n",
        "    def honk(self):\n",
        "        print(\"Beep beep!\")\n",
        "\n",
        "class ElectricCar(Car):\n",
        "    def __init__(self):\n",
        "        super().__init__()\n",
        "        self.battery = \"Lithium-ion\"\n",
        "\n",
        "    def charge_battery(self):\n",
        "        print(\"Battery is charging...\")\n",
        "\n",
        "    def drive(self):  # Overriding drive method from Car\n",
        "        print(\"Electric car is driving silently.\")\n",
        "\n",
        "# Create an object of ElectricCar\n",
        "tesla = ElectricCar()\n",
        "\n",
        "# Inherited attributes\n",
        "print(tesla.has_engine)  # From Vehicle\n",
        "print(tesla.wheels)      # From Car\n",
        "print(tesla.battery)     # From ElectricCar\n",
        "\n",
        "# Inherited and own methods\n",
        "tesla.start_engine()     # From Vehicle\n",
        "tesla.honk()             # From Car\n",
        "tesla.drive()            # Overridden in ElectricCar\n",
        "tesla.charge_battery()   # Own method\n",
        "tesla.stop_engine()      # From Vehicle\n"
      ],
      "metadata": {
        "id": "lXJX1XfuiT1l"
      },
      "execution_count": null,
      "outputs": []
    },
    {
      "cell_type": "code",
      "source": [
        "        # super().__init__(brand, speed)\n",
        "        # instead of super 2nd way\n"
      ],
      "metadata": {
        "id": "8MCb6HNzRiQH"
      },
      "execution_count": null,
      "outputs": []
    }
  ]
}