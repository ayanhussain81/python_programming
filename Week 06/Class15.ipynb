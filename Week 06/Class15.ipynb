{
  "nbformat": 4,
  "nbformat_minor": 0,
  "metadata": {
    "colab": {
      "provenance": []
    },
    "kernelspec": {
      "name": "python3",
      "display_name": "Python 3"
    },
    "language_info": {
      "name": "python"
    }
  },
  "cells": [
    {
      "cell_type": "code",
      "execution_count": 1,
      "metadata": {
        "colab": {
          "base_uri": "https://localhost:8080/"
        },
        "id": "nZDwu2OP0L43",
        "outputId": "51a7410b-7228-4103-ca9e-e26f6e0744c1"
      },
      "outputs": [
        {
          "output_type": "stream",
          "name": "stdout",
          "text": [
            "Hi\n"
          ]
        }
      ],
      "source": [
        "print(\"Hi\")"
      ]
    },
    {
      "cell_type": "markdown",
      "source": [
        "# Polymorphism"
      ],
      "metadata": {
        "id": "ha5jmfG12GvC"
      }
    },
    {
      "cell_type": "code",
      "source": [
        "name = 'Saffan'\n",
        "len(name)"
      ],
      "metadata": {
        "colab": {
          "base_uri": "https://localhost:8080/"
        },
        "id": "JmbAFfrr0OrH",
        "outputId": "e55673d7-7579-45f5-9aeb-7e380a0a2f70"
      },
      "execution_count": 2,
      "outputs": [
        {
          "output_type": "execute_result",
          "data": {
            "text/plain": [
              "6"
            ]
          },
          "metadata": {},
          "execution_count": 2
        }
      ]
    },
    {
      "cell_type": "code",
      "source": [
        "lst = [1,2,3,4]\n",
        "len(lst)"
      ],
      "metadata": {
        "colab": {
          "base_uri": "https://localhost:8080/"
        },
        "id": "wB7yWh4j2uoi",
        "outputId": "90b0b531-8cfc-49de-ae5b-3b494336119c"
      },
      "execution_count": 3,
      "outputs": [
        {
          "output_type": "execute_result",
          "data": {
            "text/plain": [
              "4"
            ]
          },
          "metadata": {},
          "execution_count": 3
        }
      ]
    },
    {
      "cell_type": "code",
      "source": [
        "class Dog:\n",
        "  def speak(self):\n",
        "    return \"bark\"\n",
        "\n",
        "class Cat:\n",
        "  def speak(self):\n",
        "    return \"meow\"\n",
        "\n",
        "def animal_speak(animal):\n",
        "  return animal.speak()\n",
        "\n",
        "dog = Dog() # same method differnt behaviours\n",
        "cat = Cat()\n",
        "\n",
        "# print(dog.speak())\n",
        "# print(cat.speak())\n",
        "\n",
        "animal_speak(dog)\n"
      ],
      "metadata": {
        "colab": {
          "base_uri": "https://localhost:8080/",
          "height": 35
        },
        "id": "IFX3c6vr2xnr",
        "outputId": "afd52a79-e2e2-4a2f-eb4c-5b2993f86835"
      },
      "execution_count": 10,
      "outputs": [
        {
          "output_type": "execute_result",
          "data": {
            "text/plain": [
              "'bark'"
            ],
            "application/vnd.google.colaboratory.intrinsic+json": {
              "type": "string"
            }
          },
          "metadata": {},
          "execution_count": 10
        }
      ]
    },
    {
      "cell_type": "code",
      "source": [
        "animal_speak(cat)"
      ],
      "metadata": {
        "colab": {
          "base_uri": "https://localhost:8080/",
          "height": 35
        },
        "id": "o8PwPP4S3yvg",
        "outputId": "832642cd-8398-41da-c365-1c2cd79d1584"
      },
      "execution_count": 9,
      "outputs": [
        {
          "output_type": "execute_result",
          "data": {
            "text/plain": [
              "'meow'"
            ],
            "application/vnd.google.colaboratory.intrinsic+json": {
              "type": "string"
            }
          },
          "metadata": {},
          "execution_count": 9
        }
      ]
    },
    {
      "cell_type": "markdown",
      "source": [
        "# Method Overriding (Runtime polymorphism)"
      ],
      "metadata": {
        "id": "N_mF4eYp5FmU"
      }
    },
    {
      "cell_type": "code",
      "source": [
        "class Animal:\n",
        "  def speak(self):\n",
        "    return \"animal makes a sound\"\n",
        "\n",
        "class Dog(Animal):\n",
        "  def speak(self):\n",
        "    return \"bark\"\n",
        "\n",
        "class Cat(Animal):\n",
        "  def speak(self):\n",
        "    return \"meow\"\n",
        "\n",
        "# def animal_speak(animal):\n",
        "#   return animal.speak()\n",
        "\n",
        "dog = Dog()\n",
        "cat = Cat()\n",
        "animal = Animal()\n",
        "\n",
        "print(cat.speak())\n",
        "print(dog.speak())\n",
        "print(animal.speak())\n",
        "print(dog)"
      ],
      "metadata": {
        "colab": {
          "base_uri": "https://localhost:8080/"
        },
        "id": "su80BK0z4IH4",
        "outputId": "f0a0acab-c654-4b39-a4af-fc78e5802039"
      },
      "execution_count": 18,
      "outputs": [
        {
          "output_type": "stream",
          "name": "stdout",
          "text": [
            "meow\n",
            "bark\n",
            "animal makes a sound\n",
            "<__main__.Dog object at 0x7e14ee566690>\n"
          ]
        }
      ]
    },
    {
      "cell_type": "markdown",
      "source": [
        "# Operator overloading\n",
        "Operator overloading allows custom objects to respond to built-in Python operators like +, -, *, etc.\n",
        "\n",
        "Python uses special methods (also called magic methods) like:\n",
        "\n",
        "\n",
        "\n",
        "| Operator | Magic Method           |\n",
        "| -------- | ---------------------- |\n",
        "| `+`      | `__add__(self, other)` |\n",
        "| `-`      | `__sub__`              |\n",
        "| `*`      | `__mul__`              |\n",
        "| `/`      | `__truediv__`          |\n",
        "| `==`     | `__eq__`               |"
      ],
      "metadata": {
        "id": "F70oz0kH96ET"
      }
    },
    {
      "cell_type": "code",
      "source": [
        "class Book:\n",
        "  def __init__(self, title, author, price):\n",
        "    self.title = title\n",
        "    self.author = author\n",
        "    self.price = price\n",
        "\n",
        "  def __str__(self):\n",
        "    return f\"{self.title} by {self.author}, ${self.price}\"\n",
        "\n",
        "  def __add__(self, other):\n",
        "    return self.price + other.price\n",
        "\n",
        "  def __sub__(self, other):\n",
        "    return self.price - other.price\n",
        "\n",
        "# Creating instances of the Book class\n",
        "book1 = Book(\"Python Crash Course\", \"Eric Matthes\", 24.99)\n",
        "book2 = Book(\"The Alchemist\", \"Paulo Coelho\", 12.99)\n",
        "\n",
        "print(book1)\n",
        "print(book2)\n",
        "print(book1 + book2)\n",
        "print(book1 - book2)"
      ],
      "metadata": {
        "colab": {
          "base_uri": "https://localhost:8080/"
        },
        "id": "01fyoh635gHx",
        "outputId": "0acb2dae-07c8-4126-8c78-7b8f0b9e4ea8"
      },
      "execution_count": 17,
      "outputs": [
        {
          "output_type": "stream",
          "name": "stdout",
          "text": [
            "Python Crash Course by Eric Matthes, $24.99\n",
            "The Alchemist by Paulo Coelho, $12.99\n",
            "37.98\n",
            "11.999999999999998\n"
          ]
        }
      ]
    },
    {
      "cell_type": "code",
      "source": [
        "class Cart:\n",
        "    def __init__(self, items=None):\n",
        "        if items is None:\n",
        "            self.items = []\n",
        "        else:\n",
        "            self.items = items\n",
        "\n",
        "    def __add__(self, other):\n",
        "        # Combine items from both carts\n",
        "        combined_items = self.items + other.items\n",
        "        return Cart(combined_items)\n",
        "\n",
        "    def __str__(self):\n",
        "        return f\"Cart Items: {', '.join(self.items)}\"\n",
        "\n",
        "# Test\n",
        "cart1 = Cart([\"Apples\", \"Milk\"])\n",
        "cart2 = Cart([\"Bread\", \"Eggs\"])\n",
        "\n",
        "final_cart = cart1 + cart2\n",
        "print(final_cart)\n"
      ],
      "metadata": {
        "colab": {
          "base_uri": "https://localhost:8080/"
        },
        "id": "oKUBM9qXENOY",
        "outputId": "e6426432-3dda-4f39-b83b-49055f64daf9"
      },
      "execution_count": 19,
      "outputs": [
        {
          "output_type": "stream",
          "name": "stdout",
          "text": [
            "Cart Items: Apples, Milk, Bread, Eggs\n"
          ]
        }
      ]
    },
    {
      "cell_type": "markdown",
      "source": [
        "# Abstraction"
      ],
      "metadata": {
        "id": "4tosWQ7LEIbg"
      }
    },
    {
      "cell_type": "code",
      "source": [
        "from abc import ABC, abstractmethod\n",
        "\n",
        "class PaymentMethod(ABC):\n",
        "    @abstractmethod\n",
        "    def pay(self, amount):\n",
        "        pass\n",
        "\n",
        "class CreditCard(PaymentMethod):\n",
        "    def pay(self, amount):\n",
        "        print(f\"Paid {amount} using Credit Card.\")\n",
        "\n",
        "class PayPal(PaymentMethod):\n",
        "    def pay(self, amount):\n",
        "        print(f\"Paid {amount} using PayPal.\")\n",
        "\n",
        "payment1 = CreditCard()\n",
        "payment1.pay(500)\n",
        "\n",
        "payment2 = PayPal()\n",
        "payment2.pay(1000)\n"
      ],
      "metadata": {
        "colab": {
          "base_uri": "https://localhost:8080/"
        },
        "id": "ZXo2WHOK-XqM",
        "outputId": "307a4907-076e-42cf-a67c-c38c193b4b6a"
      },
      "execution_count": 23,
      "outputs": [
        {
          "output_type": "stream",
          "name": "stdout",
          "text": [
            "Paid 500 using Credit Card.\n",
            "Paid 1000 using PayPal.\n"
          ]
        }
      ]
    },
    {
      "cell_type": "code",
      "source": [],
      "metadata": {
        "id": "0aT53to3FrSI"
      },
      "execution_count": null,
      "outputs": []
    }
  ]
}