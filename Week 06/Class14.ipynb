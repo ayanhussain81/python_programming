{
  "nbformat": 4,
  "nbformat_minor": 0,
  "metadata": {
    "colab": {
      "provenance": []
    },
    "kernelspec": {
      "name": "python3",
      "display_name": "Python 3"
    },
    "language_info": {
      "name": "python"
    }
  },
  "cells": [
    {
      "cell_type": "code",
      "execution_count": null,
      "metadata": {
        "id": "dPIcZCV9h-1K",
        "outputId": "28b9b739-7292-4dbe-a668-8d114e898096",
        "colab": {
          "base_uri": "https://localhost:8080/"
        }
      },
      "outputs": [
        {
          "output_type": "stream",
          "name": "stdout",
          "text": [
            "hello\n"
          ]
        }
      ],
      "source": [
        "print(\"hello\")"
      ]
    },
    {
      "cell_type": "code",
      "source": [
        "class Person:\n",
        "    def __init__(self, name):\n",
        "        self.name = name\n",
        "        self.nationality = \"Pakistani\"\n",
        "\n",
        "    def show_info(self):\n",
        "        print(f\"Name: {self.name}\")\n",
        "        print(f\"Nationality: {self.nationality}\")\n",
        "\n",
        "class Teacher(Person):\n",
        "    def __init__(self, name, subject):\n",
        "        super().__init__(name)\n",
        "        self.subject = subject\n",
        "\n",
        "    def teach(self):\n",
        "        print(f\"{self.name} is teaching {self.subject}.\")\n",
        "\n",
        "class Student(Person):\n",
        "    def __init__(self, name, grade):\n",
        "        super().__init__(name)\n",
        "        self.grade = grade\n",
        "\n",
        "    def study(self):\n",
        "        print(f\"{self.name} is studying in grade {self.grade}.\")\n",
        "\n",
        "t = Teacher(\"Ali\", \"Math\")\n",
        "s = Student(\"Ayan\", \"10th\")\n",
        "print(t.name)\n",
        "print(\"----- Teacher Info -----\")\n",
        "t.show_info()\n",
        "t.teach()\n",
        "\n",
        "print(\"\\n----- Student Info -----\")\n",
        "s.show_info()\n",
        "s.study()\n"
      ],
      "metadata": {
        "id": "WjSUzqr2iBsT",
        "colab": {
          "base_uri": "https://localhost:8080/"
        },
        "outputId": "ce3c6eff-e6b8-4d82-db34-7161676402f9"
      },
      "execution_count": 3,
      "outputs": [
        {
          "output_type": "stream",
          "name": "stdout",
          "text": [
            "Ali\n",
            "----- Teacher Info -----\n",
            "Name: Ali\n",
            "Nationality: Pakistani\n",
            "Ali is teaching Math.\n",
            "\n",
            "----- Student Info -----\n",
            "Name: Ayan\n",
            "Nationality: Pakistani\n",
            "Ayan is studying in grade 10th.\n"
          ]
        }
      ]
    },
    {
      "cell_type": "markdown",
      "source": [
        "# Encapsulation"
      ],
      "metadata": {
        "id": "WC2JUBg2pId3"
      }
    },
    {
      "cell_type": "code",
      "source": [
        "class Person:\n",
        "    def __init__(self, name, age, ssn):\n",
        "        self.name = name          # Public\n",
        "        self._age = age           # Protected\n",
        "        self.__ssn = ssn          # Private\n",
        "\n",
        "    def show_details(self):\n",
        "        print(f\"Name: {self.name}\")\n",
        "        print(f\"Age: {self._age}\")\n",
        "        print(f\"SSN: {self.__ssn}\")  # Can be accessed inside class\n",
        "\n",
        "ali = Person(\"Ali\", 30, \"123456789\")\n",
        "# ali.show_details()\n",
        "print(ali.name)\n",
        "# print(ali.__ssn)\n"
      ],
      "metadata": {
        "colab": {
          "base_uri": "https://localhost:8080/"
        },
        "id": "YYSqEdVYpKtr",
        "outputId": "bcb9c14e-9202-471a-f79e-1673ab2d041c"
      },
      "execution_count": 8,
      "outputs": [
        {
          "output_type": "stream",
          "name": "stdout",
          "text": [
            "Ali\n"
          ]
        }
      ]
    },
    {
      "cell_type": "code",
      "source": [
        "class Person:\n",
        "    def __init__(self, name, age, ssn):\n",
        "        self.name = name          # Public\n",
        "        self._age = age           # Protected\n",
        "        self.__ssn = ssn          # Private\n",
        "\n",
        "    def show_details(self):\n",
        "        print(f\"Name: {self.name}\")\n",
        "        print(f\"Age: {self._age}\")\n",
        "        print(f\"SSN: {self.__ssn}\")  # Can be accessed inside class\n",
        "\n",
        "p1 = Person(\"Ayan\", 25, \"123-45-6789\")\n",
        "\n",
        "# Public: accessible\n",
        "print(p1.name)        # ✅ OK\n",
        "\n",
        "# Protected: can access, but not recommended\n",
        "print(p1._age)        # ⚠️ OK but convention says \"don't use outside\"\n",
        "\n",
        "# Private: not directly accessible\n",
        "# print(p1.__ssn)     ❌ Error: 'Person' object has no attribute '__ssn'\n",
        "\n",
        "# Accessing private via name mangling\n",
        "print(p1._Person__ssn)  # ✅ OK (but discouraged)\n",
        "\n",
        "p1.show_details()      # ✅ All fields shown via method\n"
      ],
      "metadata": {
        "id": "nvSE8FJZrsCA"
      },
      "execution_count": null,
      "outputs": []
    },
    {
      "cell_type": "code",
      "source": [
        "class Person:\n",
        "    def __init__(self):\n",
        "        self.name = \"John\"         # Public\n",
        "        self._age = 30             # Protected\n",
        "        self.__salary = 50000      # Private\n",
        "\n",
        "class Employee(Person):\n",
        "    def display(self):\n",
        "        print(\"Name:\", self.name)       # Public - accessible\n",
        "        print(\"Age:\", self._age)        # Protected - accessible (but not recommended)\n",
        "        # print(\"Salary:\", self.__salary)  # Private - Not accessible directly\n"
      ],
      "metadata": {
        "id": "Joh0WzgDuRa6"
      },
      "execution_count": 10,
      "outputs": []
    },
    {
      "cell_type": "code",
      "source": [
        "class BankAccount:\n",
        "    def __init__(self, owner, balance):\n",
        "        self.owner = owner              # Public attribute\n",
        "        self.__balance = balance        # Private attribute\n",
        "\n",
        "    def deposit(self, amount):\n",
        "        if amount > 0:\n",
        "            self.__balance += amount\n",
        "            print(f\"{amount} deposited.\")\n",
        "        else:\n",
        "            print(\"Enter a valid amount.\")\n",
        "\n",
        "    def withdraw(self, amount):\n",
        "        if amount <= self.__balance:\n",
        "            self.__balance -= amount\n",
        "            print(f\"{amount} withdrawn.\")\n",
        "        else:\n",
        "            print(\"Insufficient balance.\")\n",
        "\n",
        "    def get_balance(self):              # Getter\n",
        "        return self.__balance\n",
        "\n",
        "    def set_balance(self, amount):      # Setter with a check\n",
        "        if amount >= 0:\n",
        "            self.__balance = amount\n",
        "        else:\n",
        "            print(\"Balance cannot be negative.\")\n",
        "\n",
        "# -----------------------------\n",
        "#  Usage\n",
        "acc = BankAccount(\"Ayan\", 1000)\n",
        "acc.deposit(500)\n",
        "acc.withdraw(200)\n",
        "\n",
        "print(\"Balance:\", acc.get_balance())    # Access via method\n",
        "\n",
        "# Try to access private attribute directly\n",
        "# print(acc.__balance)       #  This will give an error\n",
        "print(acc._BankAccount__balance)  #  Access with name mangling (not recommended)\n"
      ],
      "metadata": {
        "colab": {
          "base_uri": "https://localhost:8080/"
        },
        "id": "qmkZHt9-uWOk",
        "outputId": "c4677a63-2f60-4038-f364-14e66e3309ff"
      },
      "execution_count": 11,
      "outputs": [
        {
          "output_type": "stream",
          "name": "stdout",
          "text": [
            "500 deposited.\n",
            "200 withdrawn.\n",
            "Balance: 1300\n",
            "1300\n"
          ]
        }
      ]
    },
    {
      "cell_type": "code",
      "source": [],
      "metadata": {
        "id": "5wPVFTdS4PKF"
      },
      "execution_count": null,
      "outputs": []
    }
  ]
}