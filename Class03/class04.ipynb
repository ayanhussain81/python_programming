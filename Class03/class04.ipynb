{
 "cells": [
  {
   "cell_type": "markdown",
   "id": "29cf0c67",
   "metadata": {},
   "source": [
    "Tuple & Sets"
   ]
  },
  {
   "cell_type": "code",
   "execution_count": null,
   "id": "b20de9cb",
   "metadata": {},
   "outputs": [
    {
     "ename": "",
     "evalue": "",
     "output_type": "error",
     "traceback": [
      "\u001b[1;31mThe kernel failed to start as 'TypeAliasType' could not be imported from 'C:\\Users\\92336\\AppData\\Roaming\\Python\\Python310\\site-packages\\typing_extensions.py'.\n",
      "\u001b[1;31mClick <a href='https://aka.ms/kernelFailuresModuleImportErrFromFile'>here</a> for more info."
     ]
    }
   ],
   "source": [
    "tuple_1 =  (1,2,3)\n",
    "print(type(tuple_1))"
   ]
  },
  {
   "cell_type": "code",
   "execution_count": null,
   "id": "c34c65ed",
   "metadata": {},
   "outputs": [],
   "source": []
  }
 ],
 "metadata": {
  "kernelspec": {
   "display_name": "Python 3",
   "language": "python",
   "name": "python3"
  },
  "language_info": {
   "name": "python",
   "version": "3.10.11"
  }
 },
 "nbformat": 4,
 "nbformat_minor": 5
}
