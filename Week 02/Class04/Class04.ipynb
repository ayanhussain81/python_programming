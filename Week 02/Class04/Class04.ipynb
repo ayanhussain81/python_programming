{
  "nbformat": 4,
  "nbformat_minor": 0,
  "metadata": {
    "colab": {
      "provenance": []
    },
    "kernelspec": {
      "name": "python3",
      "display_name": "Python 3"
    },
    "language_info": {
      "name": "python"
    }
  },
  "cells": [
    {
      "cell_type": "markdown",
      "source": [
        "Tuple and Sets"
      ],
      "metadata": {
        "id": "7lQGJMDMXmcn"
      }
    },
    {
      "cell_type": "code",
      "source": [
        "tuple_1 =  (1,2,3)\n",
        "print(type(tuple_1))"
      ],
      "metadata": {
        "colab": {
          "base_uri": "https://localhost:8080/"
        },
        "id": "GeE-acVlXnhM",
        "outputId": "36059b9c-a9e5-47f3-ecee-a90245b7fca5"
      },
      "execution_count": 1,
      "outputs": [
        {
          "output_type": "stream",
          "name": "stdout",
          "text": [
            "<class 'tuple'>\n"
          ]
        }
      ]
    },
    {
      "cell_type": "code",
      "source": [
        "list1 = [1,2,3]\n",
        "print(type(list1))"
      ],
      "metadata": {
        "colab": {
          "base_uri": "https://localhost:8080/"
        },
        "id": "WzMrptWgXrZc",
        "outputId": "fcd6ef0c-6de1-4268-a2c0-ea676ac99266"
      },
      "execution_count": 2,
      "outputs": [
        {
          "output_type": "stream",
          "name": "stdout",
          "text": [
            "<class 'list'>\n"
          ]
        }
      ]
    },
    {
      "cell_type": "code",
      "source": [
        "tuple_1[1]"
      ],
      "metadata": {
        "colab": {
          "base_uri": "https://localhost:8080/"
        },
        "id": "Y0edxukNX0Ej",
        "outputId": "3330304e-c5d1-48d0-be5f-baf106b80320"
      },
      "execution_count": 3,
      "outputs": [
        {
          "output_type": "execute_result",
          "data": {
            "text/plain": [
              "2"
            ]
          },
          "metadata": {},
          "execution_count": 3
        }
      ]
    },
    {
      "cell_type": "code",
      "source": [
        "# Sets\n",
        "set_1 =  {1,2,3}\n",
        "print(type(set_1))\n",
        "\n",
        "set_2 = set([9,8,9,1])\n",
        "print(type(set_2))"
      ],
      "metadata": {
        "colab": {
          "base_uri": "https://localhost:8080/"
        },
        "id": "kZy6DDBEYvx8",
        "outputId": "ebaec3b7-0c9d-4de8-87ea-a8d4734b9295"
      },
      "execution_count": 5,
      "outputs": [
        {
          "output_type": "stream",
          "name": "stdout",
          "text": [
            "<class 'set'>\n",
            "<class 'set'>\n"
          ]
        }
      ]
    },
    {
      "cell_type": "code",
      "source": [
        "list2 = [45,25,36,25,96,78,15]\n",
        "list2.count(25)"
      ],
      "metadata": {
        "colab": {
          "base_uri": "https://localhost:8080/"
        },
        "id": "jBNNjFlRZsE7",
        "outputId": "a86cafbb-1c01-4d2d-c6bc-fc3dbce95889"
      },
      "execution_count": 7,
      "outputs": [
        {
          "output_type": "execute_result",
          "data": {
            "text/plain": [
              "2"
            ]
          },
          "metadata": {},
          "execution_count": 7
        }
      ]
    },
    {
      "cell_type": "markdown",
      "source": [
        "# If Elif Else"
      ],
      "metadata": {
        "id": "Vp5k5xjmZgxK"
      }
    },
    {
      "cell_type": "code",
      "source": [
        "# syntax\n",
        "\n",
        "if condition:\n",
        "    statement\n",
        "elif condition:\n",
        "    statement\n",
        "else:\n",
        "    statement"
      ],
      "metadata": {
        "id": "ezt6xEZVXve0"
      },
      "execution_count": null,
      "outputs": []
    },
    {
      "cell_type": "code",
      "source": [
        "a = int(input(\"Enter a number: \"))\n",
        "\n",
        "if a > 10:\n",
        "  print(\"Value is greater than 10\")\n",
        "elif a < 5:\n",
        "  print(\"Value is less than 5\")\n",
        "else:\n",
        "  print(\"Value is between 5 and 10\")"
      ],
      "metadata": {
        "colab": {
          "base_uri": "https://localhost:8080/"
        },
        "id": "Au_LvAlecVLk",
        "outputId": "7b2dbef2-13f7-420a-e861-0255e7f14afe"
      },
      "execution_count": 12,
      "outputs": [
        {
          "output_type": "stream",
          "name": "stdout",
          "text": [
            "Enter a number: 12\n",
            "Value is greater than 10\n"
          ]
        }
      ]
    },
    {
      "cell_type": "code",
      "source": [
        "a = int(input(\"Enter a number: \"))\n",
        "\n",
        "if a > 10 and a < 20:\n",
        "  print(\"Value is a between 10 and 20 \")\n",
        "elif a < 5:\n",
        "  print(\"Value is less than 5\")\n",
        "else:\n",
        "  print(\"Value is between 5 and 10\")"
      ],
      "metadata": {
        "colab": {
          "base_uri": "https://localhost:8080/"
        },
        "id": "iwk7GWPfcVN4",
        "outputId": "275ba688-d34c-4b68-bee0-4a24744435af"
      },
      "execution_count": 24,
      "outputs": [
        {
          "output_type": "stream",
          "name": "stdout",
          "text": [
            "Enter a number: 15\n",
            "Value is a between 10 and 20 \n"
          ]
        }
      ]
    },
    {
      "cell_type": "code",
      "source": [
        "a = int(input(\"Enter a number: \"))\n",
        "\n",
        "if a > 10 or a < 20:\n",
        "  print(f\"Value is {a} if condition\")\n",
        "elif a < 5:\n",
        "  print(f\"Value is {a} elif condition\")\n",
        "else:\n",
        "  print(f\"Value is {a} else condition\")\n"
      ],
      "metadata": {
        "colab": {
          "base_uri": "https://localhost:8080/"
        },
        "id": "LZ6yNDuVcVRs",
        "outputId": "ee1f0700-1be7-4985-f868-237a76029f07"
      },
      "execution_count": 23,
      "outputs": [
        {
          "output_type": "stream",
          "name": "stdout",
          "text": [
            "Enter a number: 4\n",
            "Value is 4 if condition\n"
          ]
        }
      ]
    },
    {
      "cell_type": "code",
      "source": [
        "a = int(input(\"Enter a number: \"))\n",
        "\n",
        "if a > 10 and a < 20:\n",
        "  print(f\"Value is {a} if condition\")\n",
        "elif a < 5:\n",
        "  print(f\"Value is {a} elif condition\")\n",
        "else:\n",
        "  print(f\"Value is {a} else condition\")\n"
      ],
      "metadata": {
        "colab": {
          "base_uri": "https://localhost:8080/"
        },
        "id": "hRgWkLMpgWHV",
        "outputId": "50a3f234-6d3a-4202-e8fd-c7430fc2b67b"
      },
      "execution_count": 25,
      "outputs": [
        {
          "output_type": "stream",
          "name": "stdout",
          "text": [
            "Enter a number: 4\n",
            "Value is 4 elif condition\n"
          ]
        }
      ]
    },
    {
      "cell_type": "code",
      "source": [
        "numbers =  [9,8,7,6,5,4,3,2,1]\n",
        "b = int(input(\"Enter a number: \"))\n",
        "\n",
        "if b in numbers:\n",
        "  print(f\"{b} is in the list\")\n",
        "else:\n",
        "  print(f\"{b} is not in the list\")\n",
        "  numbers.append(b)\n",
        "print(numbers)"
      ],
      "metadata": {
        "colab": {
          "base_uri": "https://localhost:8080/"
        },
        "id": "aL567h35hjvR",
        "outputId": "b9df7f8e-2b77-4745-c6be-f699490d3d12"
      },
      "execution_count": 27,
      "outputs": [
        {
          "output_type": "stream",
          "name": "stdout",
          "text": [
            "Enter a number: 10\n",
            "10 is not in the list\n",
            "[9, 8, 7, 6, 5, 4, 3, 2, 1, 10]\n"
          ]
        }
      ]
    },
    {
      "cell_type": "markdown",
      "source": [
        "# For Loop"
      ],
      "metadata": {
        "id": "wsPcsmXJl0CK"
      }
    },
    {
      "cell_type": "code",
      "source": [
        "# Sytntax\n",
        "\n",
        "for i in iterable:\n",
        "  statement"
      ],
      "metadata": {
        "id": "_96WQvbKk8DL"
      },
      "execution_count": 27,
      "outputs": []
    },
    {
      "cell_type": "code",
      "source": [
        "for i in range(10):\n",
        "  print(i)"
      ],
      "metadata": {
        "colab": {
          "base_uri": "https://localhost:8080/"
        },
        "id": "XSW4CBXWlyFy",
        "outputId": "b0aa05de-76e4-4f24-fc4a-3a1e0a2fd2d1"
      },
      "execution_count": 28,
      "outputs": [
        {
          "output_type": "stream",
          "name": "stdout",
          "text": [
            "0\n",
            "1\n",
            "2\n",
            "3\n",
            "4\n",
            "5\n",
            "6\n",
            "7\n",
            "8\n",
            "9\n"
          ]
        }
      ]
    },
    {
      "cell_type": "code",
      "source": [
        "numbers =  [9,8,7,6,5,4,3,2,1]\n",
        "\n",
        "for i in numbers:\n",
        "  print(i)"
      ],
      "metadata": {
        "colab": {
          "base_uri": "https://localhost:8080/"
        },
        "id": "d6KXp8b1lyIF",
        "outputId": "f447e174-a879-49a9-b1c9-f9dd591a613a"
      },
      "execution_count": 29,
      "outputs": [
        {
          "output_type": "stream",
          "name": "stdout",
          "text": [
            "9\n",
            "8\n",
            "7\n",
            "6\n",
            "5\n",
            "4\n",
            "3\n",
            "2\n",
            "1\n"
          ]
        }
      ]
    },
    {
      "cell_type": "code",
      "source": [
        "names = [\"Shayan\",\"Ali\",\"Ahmed\"]\n",
        "\n",
        "for i in names:\n",
        "  print(i)"
      ],
      "metadata": {
        "colab": {
          "base_uri": "https://localhost:8080/"
        },
        "id": "e7Om0g_blyKa",
        "outputId": "ea4285b8-44f7-41a1-a86a-7b933abbf4f2"
      },
      "execution_count": 30,
      "outputs": [
        {
          "output_type": "stream",
          "name": "stdout",
          "text": [
            "Shayan\n",
            "Ali\n",
            "Ahmed\n"
          ]
        }
      ]
    },
    {
      "cell_type": "code",
      "source": [
        "x = 2\n",
        "\n",
        "for i in range(1,11):\n",
        "  print(f\"{x} * {i} = {x*i}\")"
      ],
      "metadata": {
        "colab": {
          "base_uri": "https://localhost:8080/"
        },
        "id": "AQyCPMTClyM6",
        "outputId": "ca2165a2-3f2a-4ef5-8678-3c6623304bb5"
      },
      "execution_count": 32,
      "outputs": [
        {
          "output_type": "stream",
          "name": "stdout",
          "text": [
            "2 * 0 = 0\n",
            "2 * 1 = 2\n",
            "2 * 2 = 4\n",
            "2 * 3 = 6\n",
            "2 * 4 = 8\n",
            "2 * 5 = 10\n",
            "2 * 6 = 12\n",
            "2 * 7 = 14\n",
            "2 * 8 = 16\n",
            "2 * 9 = 18\n",
            "2 * 10 = 20\n"
          ]
        }
      ]
    },
    {
      "cell_type": "code",
      "source": [],
      "metadata": {
        "id": "96Lt20YmlyQO"
      },
      "execution_count": null,
      "outputs": []
    }
  ]
}