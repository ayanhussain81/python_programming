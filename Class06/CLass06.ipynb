{
  "nbformat": 4,
  "nbformat_minor": 0,
  "metadata": {
    "colab": {
      "provenance": []
    },
    "kernelspec": {
      "name": "python3",
      "display_name": "Python 3"
    },
    "language_info": {
      "name": "python"
    }
  },
  "cells": [
    {
      "cell_type": "markdown",
      "source": [
        "While Loop"
      ],
      "metadata": {
        "id": "65otUxMBErNH"
      }
    },
    {
      "cell_type": "code",
      "source": [
        "# break\n",
        "# continue\n",
        "\n",
        "a = 10\n",
        "\n",
        "while a > 2 :\n",
        "  a = a-1\n",
        "  print(a)\n",
        "\n",
        "  if a ==5:\n",
        "    break"
      ],
      "metadata": {
        "colab": {
          "base_uri": "https://localhost:8080/"
        },
        "id": "7s2pmsfBEr8l",
        "outputId": "a4bea5d4-ea84-44b7-d935-6a0626c49bd4"
      },
      "execution_count": 4,
      "outputs": [
        {
          "output_type": "stream",
          "name": "stdout",
          "text": [
            "9\n",
            "8\n",
            "7\n",
            "6\n",
            "5\n"
          ]
        }
      ]
    },
    {
      "cell_type": "code",
      "source": [
        "# break\n",
        "# continue\n",
        "\n",
        "a = 10\n",
        "\n",
        "while a > 2 :\n",
        "  a = a-1\n",
        "  print(a)\n",
        "  break"
      ],
      "metadata": {
        "colab": {
          "base_uri": "https://localhost:8080/"
        },
        "id": "e9b5T4KpFBqd",
        "outputId": "ffd716ba-07c5-48d4-be01-4afc410f0c0a"
      },
      "execution_count": 5,
      "outputs": [
        {
          "output_type": "stream",
          "name": "stdout",
          "text": [
            "9\n"
          ]
        }
      ]
    },
    {
      "cell_type": "markdown",
      "source": [
        "![image.png](data:image/png;base64,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)"
      ],
      "metadata": {
        "id": "2hxoupw_GZqU"
      }
    },
    {
      "cell_type": "markdown",
      "source": [
        "Continue\n",
        "\n"
      ],
      "metadata": {
        "id": "I4OqH_qyHG93"
      }
    },
    {
      "cell_type": "code",
      "source": [
        "value = 10\n",
        "\n",
        "while value > 2:\n",
        "  value = value - 1\n",
        "  print(value)\n",
        "  if value == 5 or value ==6:\n",
        "    continue\n",
        "  # print(value)\n",
        "print(\"End\")"
      ],
      "metadata": {
        "colab": {
          "base_uri": "https://localhost:8080/"
        },
        "id": "AP0vRbcdGC1Z",
        "outputId": "376192d4-70d3-4105-e7b4-e41d3127460c"
      },
      "execution_count": 9,
      "outputs": [
        {
          "output_type": "stream",
          "name": "stdout",
          "text": [
            "9\n",
            "8\n",
            "7\n",
            "6\n",
            "5\n",
            "4\n",
            "3\n",
            "2\n",
            "End\n"
          ]
        }
      ]
    },
    {
      "cell_type": "markdown",
      "source": [
        "Task 1:  break the loop if user enters any negative integer"
      ],
      "metadata": {
        "id": "RuQyRDg7Llw_"
      }
    },
    {
      "cell_type": "code",
      "source": [
        "while True:\n",
        "  value = int(input(\"Enter a number: \"))\n",
        "  if value < 0:\n",
        "    print(\"Number is negative\", value)\n",
        "    break\n",
        "\n",
        "  else:\n",
        "    print(\"Number is positive\", value)\n"
      ],
      "metadata": {
        "colab": {
          "base_uri": "https://localhost:8080/"
        },
        "id": "ac6Y0kCoHUWi",
        "outputId": "b5535774-59fe-4785-8b54-6fc3fb3ba20f"
      },
      "execution_count": 13,
      "outputs": [
        {
          "output_type": "stream",
          "name": "stdout",
          "text": [
            "Enter a number: -1\n",
            "Number is negative -1\n"
          ]
        }
      ]
    },
    {
      "cell_type": "markdown",
      "source": [
        "String"
      ],
      "metadata": {
        "id": "1zcAxM8qPKlx"
      }
    },
    {
      "cell_type": "code",
      "source": [
        "country  = \"Pakistan\"\n",
        "print(country)"
      ],
      "metadata": {
        "colab": {
          "base_uri": "https://localhost:8080/"
        },
        "id": "aMjJ6uuNPJQY",
        "outputId": "3eda5d26-e117-4fb8-8006-3d6f91ac3d07"
      },
      "execution_count": 14,
      "outputs": [
        {
          "output_type": "stream",
          "name": "stdout",
          "text": [
            "Pakistan\n"
          ]
        }
      ]
    },
    {
      "cell_type": "code",
      "source": [
        "len(country)"
      ],
      "metadata": {
        "colab": {
          "base_uri": "https://localhost:8080/"
        },
        "id": "B7MVCVuoPJTC",
        "outputId": "d1ec659e-d733-46a0-d995-95d650bddea4"
      },
      "execution_count": 15,
      "outputs": [
        {
          "output_type": "execute_result",
          "data": {
            "text/plain": [
              "8"
            ]
          },
          "metadata": {},
          "execution_count": 15
        }
      ]
    },
    {
      "cell_type": "code",
      "source": [
        "countries = [\"Pakistan\",\"India\", \"AUS\"]\n",
        "print(len(countries))"
      ],
      "metadata": {
        "colab": {
          "base_uri": "https://localhost:8080/"
        },
        "id": "dForjxO8OYAq",
        "outputId": "a77e4620-88c1-44c7-a4e7-d308166617ea"
      },
      "execution_count": 16,
      "outputs": [
        {
          "output_type": "stream",
          "name": "stdout",
          "text": [
            "3\n"
          ]
        }
      ]
    },
    {
      "cell_type": "code",
      "source": [
        "variable_string = \"Hello\"+ \" \" + \"World\"\n",
        "print(variable_string)"
      ],
      "metadata": {
        "colab": {
          "base_uri": "https://localhost:8080/"
        },
        "id": "d_9X2PA5QHKm",
        "outputId": "e6853301-cd88-42be-d101-f0ced4618ba0"
      },
      "execution_count": 21,
      "outputs": [
        {
          "output_type": "stream",
          "name": "stdout",
          "text": [
            "Hello World\n"
          ]
        }
      ]
    },
    {
      "cell_type": "code",
      "source": [
        "\"5\"+\"8\""
      ],
      "metadata": {
        "colab": {
          "base_uri": "https://localhost:8080/",
          "height": 36
        },
        "id": "x7xYgSyQQewf",
        "outputId": "dd77270d-f0f5-4478-add6-d2895a8c2d85"
      },
      "execution_count": 19,
      "outputs": [
        {
          "output_type": "execute_result",
          "data": {
            "text/plain": [
              "'58'"
            ],
            "application/vnd.google.colaboratory.intrinsic+json": {
              "type": "string"
            }
          },
          "metadata": {},
          "execution_count": 19
        }
      ]
    },
    {
      "cell_type": "code",
      "source": [
        "5+8"
      ],
      "metadata": {
        "colab": {
          "base_uri": "https://localhost:8080/"
        },
        "id": "--uiS_k8Qnyq",
        "outputId": "031a1fe2-6ddc-4f46-ccd0-a1e17a9d54d9"
      },
      "execution_count": 20,
      "outputs": [
        {
          "output_type": "execute_result",
          "data": {
            "text/plain": [
              "13"
            ]
          },
          "metadata": {},
          "execution_count": 20
        }
      ]
    },
    {
      "cell_type": "markdown",
      "source": [
        "# Slicing"
      ],
      "metadata": {
        "id": "bJgiaomCRk_Z"
      }
    },
    {
      "cell_type": "code",
      "source": [
        "countries = [\"Pakistan\",\"India\", \"AUS\"]\n",
        "\n",
        "# countries[0:2] ( include, exclude)\n",
        "# [start:stop]"
      ],
      "metadata": {
        "id": "GdYBz7sFQ9Lq"
      },
      "execution_count": 22,
      "outputs": []
    },
    {
      "cell_type": "code",
      "source": [
        "countries[0:2]"
      ],
      "metadata": {
        "colab": {
          "base_uri": "https://localhost:8080/"
        },
        "id": "EGkKQa9QRuUC",
        "outputId": "413e0044-9247-4fb9-f81a-9f5c06928761"
      },
      "execution_count": 23,
      "outputs": [
        {
          "output_type": "execute_result",
          "data": {
            "text/plain": [
              "['Pakistan', 'India']"
            ]
          },
          "metadata": {},
          "execution_count": 23
        }
      ]
    },
    {
      "cell_type": "code",
      "source": [
        "countries[0:3]"
      ],
      "metadata": {
        "colab": {
          "base_uri": "https://localhost:8080/"
        },
        "id": "6paGcDF8SNMd",
        "outputId": "58a81818-085e-4d91-b68f-fa5feb9dfb27"
      },
      "execution_count": 24,
      "outputs": [
        {
          "output_type": "execute_result",
          "data": {
            "text/plain": [
              "['Pakistan', 'India', 'AUS']"
            ]
          },
          "metadata": {},
          "execution_count": 24
        }
      ]
    },
    {
      "cell_type": "code",
      "source": [
        "countries[1:2]"
      ],
      "metadata": {
        "colab": {
          "base_uri": "https://localhost:8080/"
        },
        "id": "K5UVNo8hSmcz",
        "outputId": "737aa547-9622-4319-c87e-b5474b8311b2"
      },
      "execution_count": 25,
      "outputs": [
        {
          "output_type": "execute_result",
          "data": {
            "text/plain": [
              "['India']"
            ]
          },
          "metadata": {},
          "execution_count": 25
        }
      ]
    },
    {
      "cell_type": "code",
      "source": [
        "countries[1:3]"
      ],
      "metadata": {
        "colab": {
          "base_uri": "https://localhost:8080/"
        },
        "id": "gXhvBUkfSwPG",
        "outputId": "deb87589-da2c-4c6a-9fd9-b123041250b0"
      },
      "execution_count": 26,
      "outputs": [
        {
          "output_type": "execute_result",
          "data": {
            "text/plain": [
              "['India', 'AUS']"
            ]
          },
          "metadata": {},
          "execution_count": 26
        }
      ]
    },
    {
      "cell_type": "code",
      "source": [
        "numbers = [10,20,30,40,50,60,70,80,90,100]\n",
        "numbers[3:7]  # 40,50,60,70"
      ],
      "metadata": {
        "colab": {
          "base_uri": "https://localhost:8080/"
        },
        "id": "zBCJIZtKSx5w",
        "outputId": "7d3b0fd0-0299-4af6-c7cf-a4832a3b87dd"
      },
      "execution_count": 28,
      "outputs": [
        {
          "output_type": "execute_result",
          "data": {
            "text/plain": [
              "[40, 50, 60, 70]"
            ]
          },
          "metadata": {},
          "execution_count": 28
        }
      ]
    },
    {
      "cell_type": "code",
      "source": [
        "numbers[:]"
      ],
      "metadata": {
        "colab": {
          "base_uri": "https://localhost:8080/"
        },
        "id": "69bssDBoToCe",
        "outputId": "83a8335f-0d96-46ff-a22d-0f8d1312a872"
      },
      "execution_count": 29,
      "outputs": [
        {
          "output_type": "execute_result",
          "data": {
            "text/plain": [
              "[10, 20, 30, 40, 50, 60, 70, 80, 90, 100]"
            ]
          },
          "metadata": {},
          "execution_count": 29
        }
      ]
    },
    {
      "cell_type": "code",
      "source": [
        "numbers[:4]"
      ],
      "metadata": {
        "colab": {
          "base_uri": "https://localhost:8080/"
        },
        "id": "Eg9xrz85Trgb",
        "outputId": "75a355a4-82e8-45e2-eb6d-1589617b9af6"
      },
      "execution_count": 30,
      "outputs": [
        {
          "output_type": "execute_result",
          "data": {
            "text/plain": [
              "[10, 20, 30, 40]"
            ]
          },
          "metadata": {},
          "execution_count": 30
        }
      ]
    },
    {
      "cell_type": "code",
      "source": [
        "# (start, stop, steps)\n",
        "\n",
        "numbers[0:10:2]"
      ],
      "metadata": {
        "colab": {
          "base_uri": "https://localhost:8080/"
        },
        "id": "gcnN3zH_T50s",
        "outputId": "a2196a42-de2a-4bad-c21c-5d9a7b1950a7"
      },
      "execution_count": 32,
      "outputs": [
        {
          "output_type": "execute_result",
          "data": {
            "text/plain": [
              "[10, 30, 50, 70, 90]"
            ]
          },
          "metadata": {},
          "execution_count": 32
        }
      ]
    },
    {
      "cell_type": "code",
      "source": [
        "numbers[0:10:3]"
      ],
      "metadata": {
        "colab": {
          "base_uri": "https://localhost:8080/"
        },
        "id": "Ow_TquWxUEmw",
        "outputId": "fd2480f1-73f6-4ce6-ec15-a3b835ff55a4"
      },
      "execution_count": 33,
      "outputs": [
        {
          "output_type": "execute_result",
          "data": {
            "text/plain": [
              "[10, 40, 70, 100]"
            ]
          },
          "metadata": {},
          "execution_count": 33
        }
      ]
    },
    {
      "cell_type": "markdown",
      "source": [
        "for num in numbers[0:10:2]:\n",
        "  print(num)"
      ],
      "metadata": {
        "id": "s0zlhC9hUtyt"
      }
    },
    {
      "cell_type": "code",
      "source": [
        "len(numbers)"
      ],
      "metadata": {
        "colab": {
          "base_uri": "https://localhost:8080/"
        },
        "id": "ke7CtSwyVKtt",
        "outputId": "b9fdf29c-047d-4a3e-8503-9cc92dbd5d6d"
      },
      "execution_count": 35,
      "outputs": [
        {
          "output_type": "execute_result",
          "data": {
            "text/plain": [
              "10"
            ]
          },
          "metadata": {},
          "execution_count": 35
        }
      ]
    },
    {
      "cell_type": "code",
      "source": [
        "for i in range(len(numbers)):\n",
        "  print(i, numbers[i])"
      ],
      "metadata": {
        "colab": {
          "base_uri": "https://localhost:8080/"
        },
        "id": "0KhQI-NYU0nM",
        "outputId": "85f5cc84-a90d-49cc-fe37-80d00cbe5762"
      },
      "execution_count": 40,
      "outputs": [
        {
          "output_type": "stream",
          "name": "stdout",
          "text": [
            "0 10\n",
            "1 20\n",
            "2 30\n",
            "3 40\n",
            "4 50\n",
            "5 60\n",
            "6 70\n",
            "7 80\n",
            "8 90\n",
            "9 100\n"
          ]
        }
      ]
    },
    {
      "cell_type": "code",
      "source": [
        "for i in numbers:\n",
        "  print(i)"
      ],
      "metadata": {
        "colab": {
          "base_uri": "https://localhost:8080/"
        },
        "id": "Fz-g0ePBVa-i",
        "outputId": "1c77706f-138b-4bb1-ec11-b1795e2521ac"
      },
      "execution_count": 38,
      "outputs": [
        {
          "output_type": "stream",
          "name": "stdout",
          "text": [
            "10\n",
            "20\n",
            "30\n",
            "40\n",
            "50\n",
            "60\n",
            "70\n",
            "80\n",
            "90\n",
            "100\n"
          ]
        }
      ]
    },
    {
      "cell_type": "code",
      "source": [
        "duplicate_numbers =[0,1,2,0,1,7,8,5,9,6,0,1,5,0,4,1,2,5,0,6,3,1,0]\n",
        "\n",
        "# Use for loop anf find counts of 0"
      ],
      "metadata": {
        "id": "zwKAagdGV04C"
      },
      "execution_count": 41,
      "outputs": []
    },
    {
      "cell_type": "code",
      "source": [
        "word = \"abrakadabraaaiou\"\n",
        "# a e i o u\n",
        "# count vowels"
      ],
      "metadata": {
        "id": "f37ph9cla_Rn"
      },
      "execution_count": null,
      "outputs": []
    }
  ]
}