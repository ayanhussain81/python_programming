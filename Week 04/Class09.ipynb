{
  "nbformat": 4,
  "nbformat_minor": 0,
  "metadata": {
    "colab": {
      "provenance": []
    },
    "kernelspec": {
      "name": "python3",
      "display_name": "Python 3"
    },
    "language_info": {
      "name": "python"
    }
  },
  "cells": [
    {
      "cell_type": "markdown",
      "source": [
        "# Dictionaries"
      ],
      "metadata": {
        "id": "gEosXhEpZn50"
      }
    },
    {
      "cell_type": "code",
      "source": [
        "listt = [\n",
        "          [\"Shayan\",\"15\",\"Male\",\"03222222222\"],\n",
        "          [\"Ayan\",\"16\",\"Male\",\"03222222222\"],\n",
        "          [\"Hussain\",\"20\",\"Male\",\"0333333\"]\n",
        "        ]"
      ],
      "metadata": {
        "id": "hDDlkfDMZ-LF"
      },
      "execution_count": null,
      "outputs": []
    },
    {
      "cell_type": "code",
      "source": [
        "listt[1][1]\n"
      ],
      "metadata": {
        "id": "ChTGGlxFcImM",
        "colab": {
          "base_uri": "https://localhost:8080/",
          "height": 36
        },
        "outputId": "633f045f-b1ba-4825-e675-e28a2f3b0bf9"
      },
      "execution_count": null,
      "outputs": [
        {
          "output_type": "execute_result",
          "data": {
            "text/plain": [
              "'16'"
            ],
            "application/vnd.google.colaboratory.intrinsic+json": {
              "type": "string"
            }
          },
          "metadata": {},
          "execution_count": 36
        }
      ]
    },
    {
      "cell_type": "code",
      "source": [
        "dictionary = {\"Name\":\"Shayan\",\n",
        "              \"Age\":\"15\",\n",
        "             \"phone_no\":\"0322222220\"}"
      ],
      "metadata": {
        "id": "D5ZZcb_xbBFC"
      },
      "execution_count": null,
      "outputs": []
    },
    {
      "cell_type": "code",
      "source": [
        "dictionary[\"Name\"]"
      ],
      "metadata": {
        "colab": {
          "base_uri": "https://localhost:8080/",
          "height": 36
        },
        "id": "zlutCabwbliU",
        "outputId": "da989681-0687-45d7-f894-1a7296003341"
      },
      "execution_count": null,
      "outputs": [
        {
          "output_type": "execute_result",
          "data": {
            "text/plain": [
              "'Shayan'"
            ],
            "application/vnd.google.colaboratory.intrinsic+json": {
              "type": "string"
            }
          },
          "metadata": {},
          "execution_count": 9
        }
      ]
    },
    {
      "cell_type": "code",
      "execution_count": null,
      "metadata": {
        "colab": {
          "base_uri": "https://localhost:8080/"
        },
        "id": "RBteGoArZjvh",
        "outputId": "fb673756-16c5-4f17-9b37-71021729f271"
      },
      "outputs": [
        {
          "output_type": "stream",
          "name": "stdout",
          "text": [
            "{'Name': 'Shayan', 'Age': '15', 'phone_no': '0322222220'}\n"
          ]
        }
      ],
      "source": [
        "print(dictionary)"
      ]
    },
    {
      "cell_type": "code",
      "source": [
        "print(dictionary.get(\"Age\"))"
      ],
      "metadata": {
        "colab": {
          "base_uri": "https://localhost:8080/"
        },
        "id": "7u21Ya4xZpcZ",
        "outputId": "d5d24c59-5c99-49db-9168-b5fd3b1a7992"
      },
      "execution_count": null,
      "outputs": [
        {
          "output_type": "stream",
          "name": "stdout",
          "text": [
            "15\n"
          ]
        }
      ]
    },
    {
      "cell_type": "code",
      "source": [
        "dictionary.update({\"Age\":\"16\"})"
      ],
      "metadata": {
        "id": "H6wymM-qcVpR"
      },
      "execution_count": null,
      "outputs": []
    },
    {
      "cell_type": "code",
      "source": [
        "print(dictionary.get(\"Age\"))"
      ],
      "metadata": {
        "colab": {
          "base_uri": "https://localhost:8080/"
        },
        "id": "DJYUZaBndnAL",
        "outputId": "6e35d9be-86bb-433d-d32d-88c6a68d9d0e"
      },
      "execution_count": null,
      "outputs": [
        {
          "output_type": "stream",
          "name": "stdout",
          "text": [
            "16\n"
          ]
        }
      ]
    },
    {
      "cell_type": "code",
      "source": [
        "dictionary[\"Cnic\"] = \"42401-51516855-8\""
      ],
      "metadata": {
        "id": "qhskrS6Vdohb"
      },
      "execution_count": null,
      "outputs": []
    },
    {
      "cell_type": "code",
      "source": [
        "print(dictionary)"
      ],
      "metadata": {
        "colab": {
          "base_uri": "https://localhost:8080/"
        },
        "id": "tSpIUXRAduiK",
        "outputId": "63482293-02e9-479b-eda5-4da4586b2314"
      },
      "execution_count": null,
      "outputs": [
        {
          "output_type": "stream",
          "name": "stdout",
          "text": [
            "{'Name': 'Shayan', 'Age': '16', 'phone_no': '0322222220', 'Cnic': '42401-51516855-8'}\n"
          ]
        }
      ]
    },
    {
      "cell_type": "code",
      "source": [
        "dictionary.get(\"Cnic\")"
      ],
      "metadata": {
        "colab": {
          "base_uri": "https://localhost:8080/",
          "height": 36
        },
        "id": "AiQS-nlNdwXv",
        "outputId": "700046ea-5c35-410f-fbef-84adbde43f9f"
      },
      "execution_count": null,
      "outputs": [
        {
          "output_type": "execute_result",
          "data": {
            "text/plain": [
              "'42401-51516855-8'"
            ],
            "application/vnd.google.colaboratory.intrinsic+json": {
              "type": "string"
            }
          },
          "metadata": {},
          "execution_count": 19
        }
      ]
    },
    {
      "cell_type": "code",
      "source": [
        "dictionary.keys()"
      ],
      "metadata": {
        "colab": {
          "base_uri": "https://localhost:8080/"
        },
        "id": "vL9476jQeZGQ",
        "outputId": "f82d1484-b59c-495d-d39f-333419a3bf9f"
      },
      "execution_count": null,
      "outputs": [
        {
          "output_type": "execute_result",
          "data": {
            "text/plain": [
              "dict_keys(['Name', 'Age', 'phone_no', 'Cnic'])"
            ]
          },
          "metadata": {},
          "execution_count": 20
        }
      ]
    },
    {
      "cell_type": "code",
      "source": [],
      "metadata": {
        "id": "eByhjOalmLtx"
      },
      "execution_count": null,
      "outputs": []
    },
    {
      "cell_type": "code",
      "source": [
        "dictionary.values()"
      ],
      "metadata": {
        "colab": {
          "base_uri": "https://localhost:8080/"
        },
        "id": "NJmYuiuzeafr",
        "outputId": "adc8c0cd-cef1-41e5-fe9c-b47a1aa595e3"
      },
      "execution_count": null,
      "outputs": [
        {
          "output_type": "execute_result",
          "data": {
            "text/plain": [
              "dict_values(['Shayan', '16', '0322222220', '42401-51516855-8'])"
            ]
          },
          "metadata": {},
          "execution_count": 21
        }
      ]
    },
    {
      "cell_type": "code",
      "source": [
        "dictionary.items()"
      ],
      "metadata": {
        "colab": {
          "base_uri": "https://localhost:8080/"
        },
        "id": "bgQkD8F3ec5O",
        "outputId": "c9456e6d-cce8-4479-9343-9827ecc23ab7"
      },
      "execution_count": null,
      "outputs": [
        {
          "output_type": "execute_result",
          "data": {
            "text/plain": [
              "dict_items([('Name', 'Shayan'), ('Age', '16'), ('phone_no', '0322222220'), ('Cnic', '42401-51516855-8')])"
            ]
          },
          "metadata": {},
          "execution_count": 22
        }
      ]
    },
    {
      "cell_type": "code",
      "source": [
        "for value in dictionary.values():\n",
        "  print(value)"
      ],
      "metadata": {
        "id": "7M4f3blyeemi",
        "colab": {
          "base_uri": "https://localhost:8080/"
        },
        "outputId": "ea39412b-3d25-4a14-c5f1-629a048925c7"
      },
      "execution_count": null,
      "outputs": [
        {
          "output_type": "stream",
          "name": "stdout",
          "text": [
            "Shayan\n",
            "16\n",
            "0322222220\n",
            "42401-51516855-8\n"
          ]
        }
      ]
    },
    {
      "cell_type": "code",
      "source": [
        "for i in dictionary.items():\n",
        "  print(i)\n",
        "  for j in i:\n",
        "    print(j)\n",
        "  break"
      ],
      "metadata": {
        "colab": {
          "base_uri": "https://localhost:8080/"
        },
        "id": "gwdfSkRQfgdl",
        "outputId": "8aaa4ad0-2e18-4337-b8c5-6b624647e96e"
      },
      "execution_count": null,
      "outputs": [
        {
          "output_type": "stream",
          "name": "stdout",
          "text": [
            "('Name', 'Shayan')\n",
            "Name\n",
            "Shayan\n"
          ]
        }
      ]
    },
    {
      "cell_type": "code",
      "source": [
        "for key, value in dictionary.items():\n",
        "  print(key, \"->\", value)\n",
        "  break"
      ],
      "metadata": {
        "colab": {
          "base_uri": "https://localhost:8080/"
        },
        "id": "x6YTGOfQhZ7v",
        "outputId": "79eab456-59a0-4ea7-95cd-c00f86281048"
      },
      "execution_count": 37,
      "outputs": [
        {
          "output_type": "stream",
          "name": "stdout",
          "text": [
            "Name -> Shayan\n"
          ]
        }
      ]
    },
    {
      "cell_type": "code",
      "source": [
        "numbers = [1,2,2,6,3,4,4,5,5,6,7,8,9,10]\n",
        "count_dict ={}\n",
        "\n",
        "count =0\n",
        "for num in numbers:\n",
        "  if num in count_dict:\n",
        "    count_dict[num] += 1\n",
        "  else:\n",
        "    count_dict[num] = 1\n",
        "  print(count_dict)\n",
        "  # count += 1\n",
        "  # if count == 3:\n",
        "  #   break\n",
        "print(count_dict)\n"
      ],
      "metadata": {
        "colab": {
          "base_uri": "https://localhost:8080/"
        },
        "id": "bJhK18X2mBit",
        "outputId": "7336d7ac-3437-43da-e53c-e0858fb42fc2"
      },
      "execution_count": 46,
      "outputs": [
        {
          "output_type": "stream",
          "name": "stdout",
          "text": [
            "{1: 1}\n",
            "{1: 1, 2: 1}\n",
            "{1: 1, 2: 2}\n",
            "{1: 1, 2: 2, 6: 1}\n",
            "{1: 1, 2: 2, 6: 1, 3: 1}\n",
            "{1: 1, 2: 2, 6: 1, 3: 1, 4: 1}\n",
            "{1: 1, 2: 2, 6: 1, 3: 1, 4: 2}\n",
            "{1: 1, 2: 2, 6: 1, 3: 1, 4: 2, 5: 1}\n",
            "{1: 1, 2: 2, 6: 1, 3: 1, 4: 2, 5: 2}\n",
            "{1: 1, 2: 2, 6: 2, 3: 1, 4: 2, 5: 2}\n",
            "{1: 1, 2: 2, 6: 2, 3: 1, 4: 2, 5: 2, 7: 1}\n",
            "{1: 1, 2: 2, 6: 2, 3: 1, 4: 2, 5: 2, 7: 1, 8: 1}\n",
            "{1: 1, 2: 2, 6: 2, 3: 1, 4: 2, 5: 2, 7: 1, 8: 1, 9: 1}\n",
            "{1: 1, 2: 2, 6: 2, 3: 1, 4: 2, 5: 2, 7: 1, 8: 1, 9: 1, 10: 1}\n",
            "{1: 1, 2: 2, 6: 2, 3: 1, 4: 2, 5: 2, 7: 1, 8: 1, 9: 1, 10: 1}\n"
          ]
        }
      ]
    },
    {
      "cell_type": "code",
      "source": [
        "dictionary = {\"Name\":\"Shayan\",\n",
        "              \"Age\":\"15\",\n",
        "             \"phone_no\":\"0322222220\"}"
      ],
      "metadata": {
        "id": "uO-nFvKwmOMh"
      },
      "execution_count": 38,
      "outputs": []
    },
    {
      "cell_type": "code",
      "source": [
        "if \"Name\" in dictionary:\n",
        "  print(\"Yes\")\n",
        "else:\n",
        "  print(\"No\")"
      ],
      "metadata": {
        "colab": {
          "base_uri": "https://localhost:8080/"
        },
        "id": "reKIHwSsmPNb",
        "outputId": "4447bdc4-6a3c-458a-abaf-5be815013b26"
      },
      "execution_count": 39,
      "outputs": [
        {
          "output_type": "stream",
          "name": "stdout",
          "text": [
            "Yes\n"
          ]
        }
      ]
    },
    {
      "cell_type": "code",
      "source": [],
      "metadata": {
        "id": "KmnDwD6amPT7"
      },
      "execution_count": null,
      "outputs": []
    },
    {
      "cell_type": "markdown",
      "source": [
        "# Error Handling"
      ],
      "metadata": {
        "id": "F2kMldsIli9E"
      }
    },
    {
      "cell_type": "code",
      "source": [
        "# Syntax\n",
        "\n",
        "# try:\n",
        "#   code\n",
        "# except:\n",
        "#   code"
      ],
      "metadata": {
        "collapsed": true,
        "id": "50D_6RN2tFEl"
      },
      "execution_count": 50,
      "outputs": []
    },
    {
      "cell_type": "code",
      "source": [
        "x= 10\n",
        "try:\n",
        "  print(x)\n",
        "except:\n",
        "  print(\"An exception occurred\")"
      ],
      "metadata": {
        "colab": {
          "base_uri": "https://localhost:8080/"
        },
        "id": "UCIFmpPdtFBC",
        "outputId": "15f0ef9c-c8cc-4661-ee08-d2fb5c38151b"
      },
      "execution_count": 49,
      "outputs": [
        {
          "output_type": "stream",
          "name": "stdout",
          "text": [
            "10\n"
          ]
        }
      ]
    },
    {
      "cell_type": "code",
      "source": [
        "print(y)\n",
        "print(1000)"
      ],
      "metadata": {
        "colab": {
          "base_uri": "https://localhost:8080/",
          "height": 158
        },
        "id": "e1FVhF1MvZon",
        "outputId": "a6e248c0-6c14-42cd-bfd4-5ff97d935d6c"
      },
      "execution_count": 3,
      "outputs": [
        {
          "output_type": "error",
          "ename": "NameError",
          "evalue": "name 'y' is not defined",
          "traceback": [
            "\u001b[0;31m---------------------------------------------------------------------------\u001b[0m",
            "\u001b[0;31mNameError\u001b[0m                                 Traceback (most recent call last)",
            "\u001b[0;32m/tmp/ipython-input-3-2515032655.py\u001b[0m in \u001b[0;36m<cell line: 0>\u001b[0;34m()\u001b[0m\n\u001b[0;32m----> 1\u001b[0;31m \u001b[0mprint\u001b[0m\u001b[0;34m(\u001b[0m\u001b[0my\u001b[0m\u001b[0;34m)\u001b[0m\u001b[0;34m\u001b[0m\u001b[0;34m\u001b[0m\u001b[0m\n\u001b[0m\u001b[1;32m      2\u001b[0m \u001b[0mprint\u001b[0m\u001b[0;34m(\u001b[0m\u001b[0;36m1000\u001b[0m\u001b[0;34m)\u001b[0m\u001b[0;34m\u001b[0m\u001b[0;34m\u001b[0m\u001b[0m\n",
            "\u001b[0;31mNameError\u001b[0m: name 'y' is not defined"
          ]
        }
      ]
    },
    {
      "cell_type": "code",
      "source": [
        "try:\n",
        "  print(x)\n",
        "except Exception as e:\n",
        "  print(\"An exception occurred\",e)"
      ],
      "metadata": {
        "colab": {
          "base_uri": "https://localhost:8080/"
        },
        "id": "uOiuBAmJws1_",
        "outputId": "ae4b2fc5-d977-4e14-f95b-da45fd38c604"
      },
      "execution_count": 9,
      "outputs": [
        {
          "output_type": "stream",
          "name": "stdout",
          "text": [
            "An exception occurred name 'x' is not defined\n"
          ]
        }
      ]
    },
    {
      "cell_type": "code",
      "source": [
        "\n",
        "try:\n",
        "  print(10/0)\n",
        "except NameError:\n",
        "  print(\"Variable y is not defined\")\n",
        "except Exception as e :\n",
        "  print(\"Something else went wrong\",e)\n",
        "finally:\n",
        "  print(\"The 'try except' is finished\")\n",
        "\n",
        "\n",
        "print(1000)"
      ],
      "metadata": {
        "id": "3nNhTXXyl3RW",
        "colab": {
          "base_uri": "https://localhost:8080/"
        },
        "outputId": "9a9085b6-052a-4f35-ce2b-c7d61ec02b86"
      },
      "execution_count": 8,
      "outputs": [
        {
          "output_type": "stream",
          "name": "stdout",
          "text": [
            "Something else went wrong division by zero\n",
            "The 'try except' is finished\n",
            "1000\n"
          ]
        }
      ]
    },
    {
      "cell_type": "markdown",
      "source": [],
      "metadata": {
        "id": "NCn2nz3mlvRI"
      }
    }
  ]
}