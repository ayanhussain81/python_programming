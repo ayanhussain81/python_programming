{
  "nbformat": 4,
  "nbformat_minor": 0,
  "metadata": {
    "colab": {
      "provenance": []
    },
    "kernelspec": {
      "name": "python3",
      "display_name": "Python 3"
    },
    "language_info": {
      "name": "python"
    }
  },
  "cells": [
    {
      "cell_type": "markdown",
      "source": [
        "# Functions"
      ],
      "metadata": {
        "id": "0L9anUiZGTFW"
      }
    },
    {
      "cell_type": "code",
      "source": [
        "def greet():\n",
        "  print(\"Hello\")\n",
        "\n",
        "greet()"
      ],
      "metadata": {
        "colab": {
          "base_uri": "https://localhost:8080/"
        },
        "id": "_3EIc1QWGGtK",
        "outputId": "11522d27-3f9f-4099-bb5a-530b87dffeca"
      },
      "execution_count": null,
      "outputs": [
        {
          "output_type": "stream",
          "name": "stdout",
          "text": [
            "Hello\n"
          ]
        }
      ]
    },
    {
      "cell_type": "code",
      "source": [
        "def sum():\n",
        "  print(5+3)\n",
        "\n",
        "sum()"
      ],
      "metadata": {
        "colab": {
          "base_uri": "https://localhost:8080/"
        },
        "id": "FHNkyErbHxiX",
        "outputId": "f30066b7-e20c-4209-f7a8-657b22983ee2"
      },
      "execution_count": null,
      "outputs": [
        {
          "output_type": "stream",
          "name": "stdout",
          "text": [
            "8\n"
          ]
        }
      ]
    },
    {
      "cell_type": "code",
      "source": [
        "def sum(a,b):\n",
        "  # print(a+b)\n",
        "  return a + b\n",
        "\n",
        "sum(10,5)\n",
        "sum(1,9)\n",
        "sum(55,100)"
      ],
      "metadata": {
        "colab": {
          "base_uri": "https://localhost:8080/"
        },
        "id": "a-KvcMaXILaG",
        "outputId": "6bf454b1-5698-4e93-cacc-4d52d878830a"
      },
      "execution_count": null,
      "outputs": [
        {
          "output_type": "execute_result",
          "data": {
            "text/plain": [
              "155"
            ]
          },
          "metadata": {},
          "execution_count": 17
        }
      ]
    },
    {
      "cell_type": "code",
      "source": [
        "sum_numbers = sum(10,5)\n",
        "print(sum_numbers)"
      ],
      "metadata": {
        "colab": {
          "base_uri": "https://localhost:8080/"
        },
        "id": "S8LSijQIILdi",
        "outputId": "078363df-bded-47b4-d921-540e9b920696"
      },
      "execution_count": null,
      "outputs": [
        {
          "output_type": "stream",
          "name": "stdout",
          "text": [
            "15\n"
          ]
        }
      ]
    },
    {
      "cell_type": "code",
      "source": [
        "# def function_name(parameters):\n",
        "  # code block\n",
        "  # return \" \""
      ],
      "metadata": {
        "id": "6cZs0VONGGvv"
      },
      "execution_count": null,
      "outputs": []
    },
    {
      "cell_type": "code",
      "source": [
        "def max_element(numbers):\n",
        "  max_number = 0\n",
        "  for number in numbers:\n",
        "    if number > max_number:\n",
        "      max_number = number\n",
        "  return max_number\n",
        "\n",
        "numbers = [2,10,25,3,6,8,9,100,1]\n",
        "max_value = max_element(numbers)\n",
        "print(max_value)"
      ],
      "metadata": {
        "colab": {
          "base_uri": "https://localhost:8080/"
        },
        "id": "EwxGsSpWGGyH",
        "outputId": "aab6c654-aa42-407a-8c56-b5db6173f7c4"
      },
      "execution_count": null,
      "outputs": [
        {
          "output_type": "stream",
          "name": "stdout",
          "text": [
            "100\n"
          ]
        }
      ]
    },
    {
      "cell_type": "code",
      "source": [
        "max_number = 0\n",
        "def max_element(numbers,max_number):\n",
        "  for number in numbers:\n",
        "    if number > max_number:\n",
        "      max_number = number\n",
        "  return max_number\n",
        "\n",
        "numbers = [2,10,25,3,6,8,9,100,1]\n",
        "max_element(numbers,max_number)"
      ],
      "metadata": {
        "id": "MracfWUgGG1h",
        "colab": {
          "base_uri": "https://localhost:8080/"
        },
        "outputId": "1e4ea8d4-6463-4afb-8e78-43c81c99b71d"
      },
      "execution_count": null,
      "outputs": [
        {
          "output_type": "execute_result",
          "data": {
            "text/plain": [
              "100"
            ]
          },
          "metadata": {},
          "execution_count": 26
        }
      ]
    },
    {
      "cell_type": "markdown",
      "source": [
        "# Reverse String"
      ],
      "metadata": {
        "id": "g9eJOfhlTo23"
      }
    },
    {
      "cell_type": "code",
      "source": [
        "college_name = \"bahria\"\n",
        "def reverse_string(college_name):\n",
        "  string = \"\"\n",
        "  # using for loop\n",
        "  for char in college_name:\n",
        "    string = char + string\n",
        "    print(string)\n",
        "  # print(college_name[::-1])\n",
        "\n",
        "reverse_string(college_name)\n"
      ],
      "metadata": {
        "colab": {
          "base_uri": "https://localhost:8080/"
        },
        "id": "YypMKNEqRj3u",
        "outputId": "6b794a11-beb8-4c57-836d-841c08584507"
      },
      "execution_count": 38,
      "outputs": [
        {
          "output_type": "stream",
          "name": "stdout",
          "text": [
            "b\n",
            "ab\n",
            "hab\n",
            "rhab\n",
            "irhab\n",
            "airhab\n"
          ]
        }
      ]
    },
    {
      "cell_type": "code",
      "source": [
        "# positional vs keywords paramterts\n",
        "\n",
        "def multiply(a,b):\n",
        "  result = a*b\n",
        "  return result\n",
        "\n",
        "def multiply_1(value1,value2):\n",
        "  result = value1*value2\n",
        "  return result\n",
        "\n",
        "multiply(10,5)\n",
        "multiply_1(value1 = 10, value2 = 5)\n"
      ],
      "metadata": {
        "colab": {
          "base_uri": "https://localhost:8080/"
        },
        "id": "r_-Q1dyHVUFd",
        "outputId": "abd43c95-7933-4a80-c0f1-46ac94ffb0c4"
      },
      "execution_count": null,
      "outputs": [
        {
          "output_type": "execute_result",
          "data": {
            "text/plain": [
              "50"
            ]
          },
          "metadata": {},
          "execution_count": 35
        }
      ]
    },
    {
      "cell_type": "code",
      "source": [],
      "metadata": {
        "id": "AroowDZdbe5b"
      },
      "execution_count": null,
      "outputs": []
    }
  ]
}