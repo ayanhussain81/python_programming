{
  "nbformat": 4,
  "nbformat_minor": 0,
  "metadata": {
    "colab": {
      "provenance": []
    },
    "kernelspec": {
      "name": "python3",
      "display_name": "Python 3"
    },
    "language_info": {
      "name": "python"
    }
  },
  "cells": [
    {
      "cell_type": "markdown",
      "source": [
        "# OOP => Object Oriented Programming"
      ],
      "metadata": {
        "id": "wpBuXuPuruVD"
      }
    },
    {
      "cell_type": "markdown",
      "source": [
        "# Classes"
      ],
      "metadata": {
        "id": "goQxGXMArM8G"
      }
    },
    {
      "cell_type": "markdown",
      "source": [
        "\n",
        "*   Every object belongs to some class\n",
        "\n",
        "*   Every class have some methods & attributes\n",
        "\n",
        "*   Attributes => characteristics\n",
        "\n",
        "*   Methods => behaviour\n",
        "\n"
      ],
      "metadata": {
        "id": "8Qnr_ECQrQYC"
      }
    },
    {
      "cell_type": "code",
      "source": [
        "class vehicles():\n",
        "  def __init__(self,color,brand,model):\n",
        "    self.color = color\n",
        "    self.brand = brand\n",
        "    self.model = model\n",
        "\n",
        "  def run(self):\n",
        "    print(\"Vehicle is running\")\n",
        "\n",
        "  def stop(self):\n",
        "    print(\"Vehicle is stopped\")\n",
        "\n",
        "car1 = vehicles(\"Black\",'Toyota','Corolla')\n",
        "car2 = vehicles(\"White\",'Honda','Civic')\n",
        "\n",
        "print(car1.color)\n",
        "print(car2.brand)\n",
        "\n",
        "car1.run()\n",
        "car2.stop()\n"
      ],
      "metadata": {
        "colab": {
          "base_uri": "https://localhost:8080/"
        },
        "id": "6xWPUufgsymT",
        "outputId": "4e6c3367-0b6b-4540-833b-3d7c38d95b33"
      },
      "execution_count": null,
      "outputs": [
        {
          "output_type": "stream",
          "name": "stdout",
          "text": [
            "Black\n",
            "Honda\n",
            "Vehicle is running\n",
            "Vehicle is stopped\n"
          ]
        }
      ]
    },
    {
      "cell_type": "code",
      "source": [],
      "metadata": {
        "id": "f8fpkuQIrOiz",
        "colab": {
          "base_uri": "https://localhost:8080/"
        },
        "outputId": "b699c9f8-4b52-4c5d-a097-98e296bdd29e"
      },
      "execution_count": 4,
      "outputs": [
        {
          "output_type": "stream",
          "name": "stdout",
          "text": [
            "True\n",
            "4\n",
            "Lithium-ion\n"
          ]
        }
      ]
    },
    {
      "cell_type": "code",
      "source": [],
      "metadata": {
        "id": "C_EGuNSzg2Jy"
      },
      "execution_count": null,
      "outputs": []
    }
  ]
}