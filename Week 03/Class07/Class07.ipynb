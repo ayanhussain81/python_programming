{
  "nbformat": 4,
  "nbformat_minor": 0,
  "metadata": {
    "colab": {
      "provenance": []
    },
    "kernelspec": {
      "name": "python3",
      "display_name": "Python 3"
    },
    "language_info": {
      "name": "python"
    }
  },
  "cells": [
    {
      "cell_type": "markdown",
      "source": [
        "# Assignment"
      ],
      "metadata": {
        "id": "sMOnhvSPRotx"
      }
    },
    {
      "cell_type": "markdown",
      "source": [
        "For loop:\n",
        "\n",
        "1. Create a list of all numbers between 1 and 100 that are divisible by both 3 and 5.\n",
        "\n",
        "2. Write a loop that replaces all spaces in a string with underscores.\n",
        "\n",
        "\n",
        "3. Check which elements are common in two lists\n",
        "\n",
        "\n",
        "While loop:\n",
        "\n",
        "1. Keep removing elements from a list one by one and print the list each time, until it becomes empty\n",
        "\n",
        "2. Start from a number and keep dividing it by 2 until it becomes less than 1. Print each value.\n",
        "\n",
        "2. Ask the user to enter numbers until the total sum crosses 100."
      ],
      "metadata": {
        "id": "MMR-i924q-mv"
      }
    },
    {
      "cell_type": "markdown",
      "source": [
        "# Nested loops"
      ],
      "metadata": {
        "id": "RKVDFBKFvYnx"
      }
    },
    {
      "cell_type": "code",
      "source": [
        "for i in range(1, 4):# 1,2,3\n",
        "    for j in range(1, 4): # 1,2,3\n",
        "        print(i, j)\n"
      ],
      "metadata": {
        "colab": {
          "base_uri": "https://localhost:8080/"
        },
        "id": "bbtkIoO1uxPn",
        "outputId": "116ec93d-c615-42c0-c6bc-cbd1be5165cb"
      },
      "execution_count": null,
      "outputs": [
        {
          "output_type": "stream",
          "name": "stdout",
          "text": [
            "1 1\n",
            "1 2\n",
            "1 3\n",
            "2 1\n",
            "2 2\n",
            "2 3\n",
            "3 1\n",
            "3 2\n",
            "3 3\n"
          ]
        }
      ]
    },
    {
      "cell_type": "code",
      "source": [
        "rows = 4\n",
        "\n",
        "for i in range(rows):\n",
        "    for j in range(rows):\n",
        "        print(\"*\", end=\" \")\n",
        "    print()\n"
      ],
      "metadata": {
        "colab": {
          "base_uri": "https://localhost:8080/"
        },
        "id": "2nVYU9iTvTR4",
        "outputId": "60663673-a844-4690-897a-de616d6d2d74"
      },
      "execution_count": null,
      "outputs": [
        {
          "output_type": "stream",
          "name": "stdout",
          "text": [
            "* * * * \n",
            "* * * * \n",
            "* * * * \n",
            "* * * * \n"
          ]
        }
      ]
    },
    {
      "cell_type": "code",
      "source": [
        "#triangle\n",
        "\n",
        "rows = 5\n",
        "\n",
        "for i in range(rows):\n",
        "    for j in range(i+1):\n",
        "        print(\"*\", end=\" \")\n",
        "    print()"
      ],
      "metadata": {
        "colab": {
          "base_uri": "https://localhost:8080/"
        },
        "id": "_r5kpOBlvX3F",
        "outputId": "8da494fe-7a79-440d-b00a-cab0f4c19bf6"
      },
      "execution_count": null,
      "outputs": [
        {
          "output_type": "stream",
          "name": "stdout",
          "text": [
            "* \n",
            "* * \n",
            "* * * \n",
            "* * * * \n",
            "* * * * * \n"
          ]
        }
      ]
    }
  ]
}