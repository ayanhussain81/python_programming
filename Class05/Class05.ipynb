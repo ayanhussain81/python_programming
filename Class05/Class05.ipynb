{
  "nbformat": 4,
  "nbformat_minor": 0,
  "metadata": {
    "colab": {
      "provenance": []
    },
    "kernelspec": {
      "name": "python3",
      "display_name": "Python 3"
    },
    "language_info": {
      "name": "python"
    }
  },
  "cells": [
    {
      "cell_type": "markdown",
      "source": [
        "Task 1: create a list of numbers and get the sum of the number using \"For Loop\""
      ],
      "metadata": {
        "id": "ZsUslMaco9QA"
      }
    },
    {
      "cell_type": "code",
      "execution_count": 6,
      "metadata": {
        "id": "veFso91UnS-q",
        "colab": {
          "base_uri": "https://localhost:8080/"
        },
        "outputId": "94f22bc2-6801-426d-c4fa-6291f2f31b98"
      },
      "outputs": [
        {
          "output_type": "stream",
          "name": "stdout",
          "text": [
            "Previous Total:  0\n",
            "Current Total:  10\n",
            "Previous Total:  10\n",
            "Current Total:  11\n",
            "Previous Total:  11\n",
            "Current Total:  13\n",
            "13\n"
          ]
        }
      ],
      "source": [
        "numbers = [10,1,2]\n",
        "\n",
        "total = 0\n",
        "\n",
        "for num in numbers:\n",
        "  print(\"Previous Total: \", total)\n",
        "  total = total +num\n",
        "  print(\"Current Total: \", total)\n",
        "  # print(num, total)\n",
        "\n",
        "print(total)"
      ]
    },
    {
      "cell_type": "code",
      "source": [
        "9%3"
      ],
      "metadata": {
        "id": "eEsPggKnnVYV",
        "colab": {
          "base_uri": "https://localhost:8080/"
        },
        "outputId": "917a6fe8-7773-4f27-9599-03269a8dbf50"
      },
      "execution_count": 7,
      "outputs": [
        {
          "output_type": "execute_result",
          "data": {
            "text/plain": [
              "0"
            ]
          },
          "metadata": {},
          "execution_count": 7
        }
      ]
    },
    {
      "cell_type": "code",
      "source": [
        "9%4"
      ],
      "metadata": {
        "id": "pkqtXYXlnVbw",
        "colab": {
          "base_uri": "https://localhost:8080/"
        },
        "outputId": "2c85b0d6-e2f0-4439-da4b-00b622546ac5"
      },
      "execution_count": 8,
      "outputs": [
        {
          "output_type": "execute_result",
          "data": {
            "text/plain": [
              "1"
            ]
          },
          "metadata": {},
          "execution_count": 8
        }
      ]
    },
    {
      "cell_type": "code",
      "source": [
        "# Task2:\n",
        "\n",
        "# numbers  = [1,2,3,4,5,6,7,8,9,10,11,12,13,14,15]\n",
        "\n",
        "# Need a new list of numbers divisible by 3 and 2"
      ],
      "metadata": {
        "id": "cf1aTVQOtxof"
      },
      "execution_count": null,
      "outputs": []
    },
    {
      "cell_type": "code",
      "source": [
        "numbers  = [1,2,3,4,5,6,7,8,9,10,11,12,13,14,15]\n",
        "divisible_by_3 = []\n",
        "for num in numbers:\n",
        "  if num % 3 == 0:\n",
        "    divisible_by_3.append(num)\n",
        "print(divisible_by_3)"
      ],
      "metadata": {
        "colab": {
          "base_uri": "https://localhost:8080/"
        },
        "id": "aAz1AbwGv1p7",
        "outputId": "3a09e984-759d-4202-a6fe-3b64141dbe95"
      },
      "execution_count": 10,
      "outputs": [
        {
          "output_type": "stream",
          "name": "stdout",
          "text": [
            "[3, 6, 9, 12, 15]\n"
          ]
        }
      ]
    },
    {
      "cell_type": "code",
      "source": [
        "numbers =[]\n",
        "for i in range(1,50):\n",
        "  numbers.append(i)\n",
        "print(numbers)"
      ],
      "metadata": {
        "colab": {
          "base_uri": "https://localhost:8080/"
        },
        "id": "MHLC9mGPv1sO",
        "outputId": "9469e5b5-d515-4aad-cf70-53dea4e1b30f"
      },
      "execution_count": 11,
      "outputs": [
        {
          "output_type": "stream",
          "name": "stdout",
          "text": [
            "[1, 2, 3, 4, 5, 6, 7, 8, 9, 10, 11, 12, 13, 14, 15, 16, 17, 18, 19, 20, 21, 22, 23, 24, 25, 26, 27, 28, 29, 30, 31, 32, 33, 34, 35, 36, 37, 38, 39, 40, 41, 42, 43, 44, 45, 46, 47, 48, 49]\n"
          ]
        }
      ]
    },
    {
      "cell_type": "markdown",
      "source": [
        "# While Loop"
      ],
      "metadata": {
        "id": "i9MfSk0e2J9F"
      }
    },
    {
      "cell_type": "code",
      "source": [
        "# While condition:\n",
        "#   statement"
      ],
      "metadata": {
        "id": "z5rL8LICv1uw"
      },
      "execution_count": null,
      "outputs": []
    },
    {
      "cell_type": "code",
      "source": [
        "while True:\n",
        "  print(\"Hello\")"
      ],
      "metadata": {
        "id": "03DvS3L_v1xH"
      },
      "execution_count": null,
      "outputs": []
    },
    {
      "cell_type": "code",
      "source": [
        "a = 10\n",
        "\n",
        "while a > 0:\n",
        "  # print(a)\n",
        "  a = a - 1\n",
        "  print(a)"
      ],
      "metadata": {
        "colab": {
          "base_uri": "https://localhost:8080/"
        },
        "id": "cKVDA7jk21pV",
        "outputId": "d727fd58-56a5-4324-e290-ebe7cb69f876"
      },
      "execution_count": 14,
      "outputs": [
        {
          "output_type": "stream",
          "name": "stdout",
          "text": [
            "9\n",
            "8\n",
            "7\n",
            "6\n",
            "5\n",
            "4\n",
            "3\n",
            "2\n",
            "1\n",
            "0\n"
          ]
        }
      ]
    },
    {
      "cell_type": "code",
      "source": [
        "# Task # 4 Guess the number using while loop"
      ],
      "metadata": {
        "id": "p5zlTURfv1zo"
      },
      "execution_count": 16,
      "outputs": []
    },
    {
      "cell_type": "code",
      "source": [
        "correct_value = 15\n",
        "right_condition = True\n",
        "\n",
        "while right_condition:\n",
        "  value = int(input(\"Enter a number: \"))\n",
        "  if value == correct_value:\n",
        "    print(\"Correct\")\n",
        "    right_condition = False\n",
        "  else:\n",
        "    print(\"Incorrect Retry \")"
      ],
      "metadata": {
        "colab": {
          "base_uri": "https://localhost:8080/"
        },
        "id": "EmbuoLCXv13A",
        "outputId": "01a6250e-3c97-4ace-d4b4-f7ec2979b9ec"
      },
      "execution_count": 19,
      "outputs": [
        {
          "output_type": "stream",
          "name": "stdout",
          "text": [
            "Enter a number: 12\n",
            "Incorrect Retry \n",
            "Enter a number: 13\n",
            "Incorrect Retry \n",
            "Enter a number: 15\n",
            "Correct\n"
          ]
        }
      ]
    },
    {
      "cell_type": "code",
      "source": [],
      "metadata": {
        "id": "nAStjmyM-sas"
      },
      "execution_count": null,
      "outputs": []
    }
  ]
}